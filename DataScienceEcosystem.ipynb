{
 "cells": [
  {
   "cell_type": "markdown",
   "id": "3c26a616",
   "metadata": {},
   "source": [
    "# Data Science Tools and Ecosystem #"
   ]
  },
  {
   "cell_type": "code",
   "execution_count": 6,
   "id": "0274e7d2",
   "metadata": {},
   "outputs": [
    {
     "name": "stdout",
     "output_type": "stream",
     "text": [
      "This is a test script.\n"
     ]
    }
   ],
   "source": [
    "print(\"This is a test script.\")"
   ]
  },
  {
   "cell_type": "markdown",
   "id": "a6dccd90",
   "metadata": {},
   "source": [
    "## En este cuaderno creado en un entorno, se resumen las herramientas y ecosistemas de ciencia de datos. ##"
   ]
  },
  {
   "cell_type": "markdown",
   "id": "41f9ccce",
   "metadata": {},
   "source": [
    "Algunos de los lenguajes populares que utilizan los científicos de datos son: \n",
    "- Python, \n",
    "- SQL, y \n",
    "- R"
   ]
  },
  {
   "cell_type": "markdown",
   "id": "6455e7bd",
   "metadata": {},
   "source": [
    "Algunas de las librerías comúnmente utilizadas por los científicos de datos incluyen: \n",
    "- NumPy, \n",
    "- Pandas,\n",
    "- Matplotlib, \n",
    "- Scikit-learn"
   ]
  },
  {
   "cell_type": "markdown",
   "id": "4aefab08",
   "metadata": {},
   "source": [
    "| Herramientas de Ciencia de Datos      |\n",
    "|---------------------------------------|\n",
    "| Jupyter Notebook                      |\n",
    "| RStudio                               |\n",
    "| Apache Zeppelin                       |\n",
    "| Apache Spark                          |\n",
    "| Apache Hadoop                         |\n",
    "| Apache Hive                           |"
   ]
  },
  {
   "cell_type": "markdown",
   "id": "ae3f2f83",
   "metadata": {},
   "source": [
    "## A continuación, se presentan algunos ejemplos de evaluación de expresiones aritméticas en Python ## \n",
    "- Suma (+): 5 + 3 resulta en 8.\n",
    "- Resta (-): 10 - 4 resulta en 6.\n",
    "- Multiplicación ():*: 2 * 6 resulta en 12.\n",
    "- División (/): 10 / 3 resulta en 3.333... (división de punto flotante).\n",
    "- División entera (//): 10 // 3 resulta en 3 (parte entera de la división).\n",
    "- Módulo (%): 10 % 3 resulta en 1 (resto de la división).\n",
    "- Exponenciación () :** 2 ** 3 resulta en 8 (2 elevado a la potencia de 3)"
   ]
  },
  {
   "cell_type": "markdown",
   "id": "04f8aeba",
   "metadata": {},
   "source": [
    "Esta es una expresión aritmética simple para multiplicar y luego sumar enteros:"
   ]
  },
  {
   "cell_type": "code",
   "execution_count": 8,
   "id": "1e64136d",
   "metadata": {},
   "outputs": [
    {
     "data": {
      "text/plain": [
       "17"
      ]
     },
     "execution_count": 8,
     "metadata": {},
     "output_type": "execute_result"
    }
   ],
   "source": [
    "(3*4)+5"
   ]
  },
  {
   "cell_type": "markdown",
   "id": "a2ad8956",
   "metadata": {},
   "source": [
    "Esto convertirá 200 minutos a horas dividiendo por 60: "
   ]
  },
  {
   "cell_type": "code",
   "execution_count": 9,
   "id": "cb7a6274",
   "metadata": {},
   "outputs": [
    {
     "name": "stdout",
     "output_type": "stream",
     "text": [
      "Esto es igual a: 3.3333333333333335 horas\n"
     ]
    }
   ],
   "source": [
    "time = 200 / 60\n",
    "print(\"Esto es igual a:\", time, \"horas\")"
   ]
  },
  {
   "cell_type": "markdown",
   "id": "4d1aa7ee",
   "metadata": {},
   "source": [
    "**Objetivos:**\n",
    "\n",
    "- Listar lenguajes populares para Ciencia de Datos,\n",
    "- Las librerías más comunmente utilizadas en Python,\n",
    "- Enlistar herramientas utilizadas en Ciencia de Datos,\n",
    "- Conocer y evaluar expresiones aritméticas,\n",
    "- Convertir de minutos a horas utilizando una expresión aritmética.\n"
   ]
  },
  {
   "cell_type": "markdown",
   "id": "2f4a3a37",
   "metadata": {},
   "source": [
    "## Autor\n",
    "\n",
    "Xavier Alejandro Ramírez Jáuregui"
   ]
  }
 ],
 "metadata": {
  "kernelspec": {
   "display_name": ".venv",
   "language": "python",
   "name": "python3"
  },
  "language_info": {
   "codemirror_mode": {
    "name": "ipython",
    "version": 3
   },
   "file_extension": ".py",
   "mimetype": "text/x-python",
   "name": "python",
   "nbconvert_exporter": "python",
   "pygments_lexer": "ipython3",
   "version": "3.12.3"
  }
 },
 "nbformat": 4,
 "nbformat_minor": 5
}
